{
 "cells": [
  {
   "cell_type": "code",
   "execution_count": 156,
   "metadata": {},
   "outputs": [],
   "source": [
    "import csv\n",
    "import numpy as np\n",
    "from flask import jsonify\n",
    "import math\n",
    "import requests\n",
    "from heapq import nsmallest\n",
    "import pandas as pd\n",
    "from sklearn.cluster import KMeans\n",
    "import matplotlib.pyplot as plt\n",
    "\n",
    "def distances(clusters):\n",
    "    r = requests.get('http://localhost:3003/trucks/companies/:FirstTruckCompany')\n",
    "    number_transports = len(r.json())\n",
    "    number_transports = clusters\n",
    "    # return \"Hello World!\"\n",
    "    with open('./simulation/locations.csv', 'rt') as csvfile:\n",
    "        item_reader = csv.reader(csvfile, delimiter='|')\n",
    "        rows = [row for row in item_reader]\n",
    "        rows = np.array([[float(row[0]), float(row[1])] for row in rows[1:]])\n",
    "        # Number of clusters\n",
    "        kmeans = KMeans(n_clusters=number_transports)\n",
    "        # Fitting the input data\n",
    "        kmeans = kmeans.fit(rows)\n",
    "        # Getting the cluster labels\n",
    "        labels = kmeans.predict(rows)\n",
    "        score = kmeans.score(rows)\n",
    "        # Centroid value\n",
    "        centroids = kmeans.cluster_centers_\n",
    "        plt.scatter(rows[:, 0], rows[:, 1], c=labels, cmap='viridis')\n",
    "        centers = kmeans.cluster_centers_\n",
    "        plt.scatter(centers[:, 0], centers[:, 1], c='black', s=200, alpha=0.5);\n",
    "        return(labels, rows, score)"
   ]
  },
  {
   "cell_type": "code",
   "execution_count": 170,
   "metadata": {},
   "outputs": [
    {
     "data": {
      "image/png": "[encoded data removed]",
      "text/plain": [
       "<Figure size 432x288 with 1 Axes>"
      ]
     },
     "metadata": {
      "needs_background": "light"
     },
     "output_type": "display_data"
    }
   ],
   "source": [
    "lbs = distances(8)"
   ]
  },
  {
   "cell_type": "code",
   "execution_count": 171,
   "metadata": {},
   "outputs": [
    {
     "data": {
      "text/plain": [
       "-0.37317606568285555"
      ]
     },
     "execution_count": 171,
     "metadata": {},
     "output_type": "execute_result"
    }
   ],
   "source": [
    "lbs[2]"
   ]
  },
  {
   "cell_type": "code",
   "execution_count": 159,
   "metadata": {},
   "outputs": [],
   "source": [
    "value_0 = np.where(lbs[0] == 0)\n",
    "value_1 = np.where(lbs[0] == 1)\n",
    "value_2 = np.where(lbs[0] == 2)\n",
    "value_3 = np.where(lbs[0] == 3)\n",
    "value_4 = np.where(lbs[0] == 4)\n",
    "value_5 = np.where(lbs[0] == 5)"
   ]
  },
  {
   "cell_type": "code",
   "execution_count": 160,
   "metadata": {},
   "outputs": [
    {
     "data": {
      "text/plain": [
       "9"
      ]
     },
     "execution_count": 160,
     "metadata": {},
     "output_type": "execute_result"
    }
   ],
   "source": [
    "len(value_0[0])"
   ]
  },
  {
   "cell_type": "code",
   "execution_count": 161,
   "metadata": {},
   "outputs": [
    {
     "data": {
      "text/plain": [
       "12"
      ]
     },
     "execution_count": 161,
     "metadata": {},
     "output_type": "execute_result"
    }
   ],
   "source": [
    "len(value_1[0])"
   ]
  },
  {
   "cell_type": "code",
   "execution_count": 162,
   "metadata": {},
   "outputs": [
    {
     "data": {
      "text/plain": [
       "15"
      ]
     },
     "execution_count": 162,
     "metadata": {},
     "output_type": "execute_result"
    }
   ],
   "source": [
    "len(value_2[0])"
   ]
  },
  {
   "cell_type": "code",
   "execution_count": 163,
   "metadata": {},
   "outputs": [
    {
     "data": {
      "text/plain": [
       "7"
      ]
     },
     "execution_count": 163,
     "metadata": {},
     "output_type": "execute_result"
    }
   ],
   "source": [
    "len(value_3[0])"
   ]
  },
  {
   "cell_type": "code",
   "execution_count": 164,
   "metadata": {},
   "outputs": [
    {
     "data": {
      "text/plain": [
       "11"
      ]
     },
     "execution_count": 164,
     "metadata": {},
     "output_type": "execute_result"
    }
   ],
   "source": [
    "len(value_4[0])"
   ]
  },
  {
   "cell_type": "code",
   "execution_count": 165,
   "metadata": {},
   "outputs": [
    {
     "data": {
      "text/plain": [
       "10"
      ]
     },
     "execution_count": 165,
     "metadata": {},
     "output_type": "execute_result"
    }
   ],
   "source": [
    "len(value_5[0])"
   ]
  },
  {
   "cell_type": "code",
   "execution_count": 166,
   "metadata": {},
   "outputs": [
    {
     "data": {
      "text/plain": [
       "43"
      ]
     },
     "execution_count": 166,
     "metadata": {},
     "output_type": "execute_result"
    }
   ],
   "source": [
    "len(value_0[0]) + len(value_1[0]) + len(value_2[0]) + len(value_3[0])"
   ]
  },
  {
   "cell_type": "code",
   "execution_count": 167,
   "metadata": {},
   "outputs": [
    {
     "data": {
      "text/plain": [
       "(array([7, 1, 0, 5, 4, 0, 3, 7, 2, 4, 4, 1, 5, 2, 5, 4, 1, 7, 6, 2, 2, 6,\n",
       "        5, 4, 4, 1, 1, 6, 3, 7, 3, 4, 4, 6, 1, 6, 2, 6, 6, 7, 0, 7, 7, 2,\n",
       "        7, 5, 4, 0, 6, 2, 2, 3, 0, 6, 7, 1, 3, 2, 5, 7, 4, 6, 7, 2, 5, 1,\n",
       "        1, 2, 1, 3, 0, 0, 7, 2, 0, 1, 5, 4, 2, 2, 6, 2, 7, 6, 1, 0, 5, 3,\n",
       "        5, 6], dtype=int32), array([[ 19.35350127, -99.1587231 ],\n",
       "        [ 19.35914391, -98.92848921],\n",
       "        [ 19.54366946, -99.27755232],\n",
       "        [ 19.46909016, -99.41351018],\n",
       "        [ 19.45138676, -99.04376443],\n",
       "        [ 19.54147791, -99.15827776],\n",
       "        [ 19.57033975, -98.99451031],\n",
       "        [ 19.38870346, -99.32040874],\n",
       "        [ 19.3489824 , -99.41006897],\n",
       "        [ 19.39035597, -99.04356749],\n",
       "        [ 19.40177457, -99.1337721 ],\n",
       "        [ 19.35167118, -98.94924235],\n",
       "        [ 19.54857514, -99.37652509],\n",
       "        [ 19.30528545, -99.39848816],\n",
       "        [ 19.55808331, -99.36167145],\n",
       "        [ 19.4265911 , -99.04418894],\n",
       "        [ 19.23446707, -98.89768461],\n",
       "        [ 19.40323083, -99.21244696],\n",
       "        [ 19.20048079, -99.068573  ],\n",
       "        [ 19.34450586, -99.41412558],\n",
       "        [ 19.21575364, -99.28784105],\n",
       "        [ 19.24683846, -99.16126489],\n",
       "        [ 19.46402657, -99.40537686],\n",
       "        [ 19.51300808, -99.09908972],\n",
       "        [ 19.39557315, -99.02745526],\n",
       "        [ 19.33152833, -98.95977722],\n",
       "        [ 19.4033783 , -98.90786506],\n",
       "        [ 19.3026911 , -99.15031647],\n",
       "        [ 19.55346843, -99.09301185],\n",
       "        [ 19.36824434, -99.18597835],\n",
       "        [ 19.52784582, -98.88916568],\n",
       "        [ 19.43379164, -99.03026836],\n",
       "        [ 19.49720615, -99.09281547],\n",
       "        [ 19.30943713, -99.16548156],\n",
       "        [ 19.24660725, -98.9126116 ],\n",
       "        [ 19.21676763, -99.20382009],\n",
       "        [ 19.24366308, -99.37410379],\n",
       "        [ 19.2301877 , -99.19245863],\n",
       "        [ 19.28800591, -99.13134021],\n",
       "        [ 19.31276645, -99.25649245],\n",
       "        [ 19.54353503, -99.15314942],\n",
       "        [ 19.44358546, -99.19964301],\n",
       "        [ 19.40019849, -99.25384111],\n",
       "        [ 19.21000302, -99.37239975],\n",
       "        [ 19.37164241, -99.2880757 ],\n",
       "        [ 19.51365269, -99.42268189],\n",
       "        [ 19.39471701, -99.06394165],\n",
       "        [ 19.53314308, -99.24848763],\n",
       "        [ 19.32225543, -99.1611965 ],\n",
       "        [ 19.28323314, -99.38244708],\n",
       "        [ 19.2172679 , -99.32291114],\n",
       "        [ 19.57689075, -99.05542417],\n",
       "        [ 19.5243981 , -99.27650786],\n",
       "        [ 19.22489846, -99.24117239],\n",
       "        [ 19.34732888, -99.26713605],\n",
       "        [ 19.28635405, -99.01378764],\n",
       "        [ 19.53511505, -98.97984673],\n",
       "        [ 19.25081789, -99.25583556],\n",
       "        [ 19.43308342, -99.33368388],\n",
       "        [ 19.38101255, -99.19348544],\n",
       "        [ 19.40159582, -99.1364923 ],\n",
       "        [ 19.29979568, -99.19771371],\n",
       "        [ 19.3737374 , -99.21457092],\n",
       "        [ 19.33954768, -99.37505055],\n",
       "        [ 19.46837499, -99.3300449 ],\n",
       "        [ 19.37390759, -98.9863278 ],\n",
       "        [ 19.31523405, -98.92532991],\n",
       "        [ 19.21267705, -99.30214397],\n",
       "        [ 19.21822467, -98.99573879],\n",
       "        [ 19.57736498, -99.07914036],\n",
       "        [ 19.57323773, -99.1395192 ],\n",
       "        [ 19.54104471, -99.21832894],\n",
       "        [ 19.32813983, -99.26328028],\n",
       "        [ 19.26003667, -99.39534166],\n",
       "        [ 19.57654046, -99.28658211],\n",
       "        [ 19.23871631, -98.89378821],\n",
       "        [ 19.46591221, -99.39932427],\n",
       "        [ 19.4319524 , -99.11159227],\n",
       "        [ 19.29366187, -99.29865491],\n",
       "        [ 19.30650616, -99.39325293],\n",
       "        [ 19.26228345, -99.0840595 ],\n",
       "        [ 19.26778661, -99.28242029],\n",
       "        [ 19.32803198, -99.2152073 ],\n",
       "        [ 19.30650884, -99.14526158],\n",
       "        [ 19.33869585, -98.9939138 ],\n",
       "        [ 19.49532415, -99.20701076],\n",
       "        [ 19.48365077, -99.35386434],\n",
       "        [ 19.48579212, -98.98047409],\n",
       "        [ 19.47451213, -99.3804249 ],\n",
       "        [ 19.22602146, -99.06484388]]), -0.3576863635025802)"
      ]
     },
     "execution_count": 167,
     "metadata": {},
     "output_type": "execute_result"
    }
   ],
   "source": [
    "lbs"
   ]
  },
  {
   "cell_type": "code",
   "execution_count": null,
   "metadata": {},
   "outputs": [],
   "source": []
  },
  {
   "cell_type": "code",
   "execution_count": null,
   "metadata": {},
   "outputs": [],
   "source": []
  },
  {
   "cell_type": "code",
   "execution_count": null,
   "metadata": {},
   "outputs": [],
   "source": []
  },
  {
   "cell_type": "code",
   "execution_count": null,
   "metadata": {},
   "outputs": [],
   "source": []
  }
 ],
 "metadata": {
  "kernelspec": {
   "display_name": "Python 3",
   "language": "python",
   "name": "python3"
  },
  "language_info": {
   "codemirror_mode": {
    "name": "ipython",
    "version": 3
   },
   "file_extension": ".py",
   "mimetype": "text/x-python",
   "name": "python",
   "nbconvert_exporter": "python",
   "pygments_lexer": "ipython3",
   "version": "3.5.2"
  }
 },
 "nbformat": 4,
 "nbformat_minor": 2
}
